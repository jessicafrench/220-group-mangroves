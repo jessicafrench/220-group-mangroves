{
 "cells": [
  {
   "cell_type": "code",
   "execution_count": 15,
   "id": "4268e699-9610-4b25-990a-7e373b8c11b7",
   "metadata": {},
   "outputs": [],
   "source": [
    "import geemap\n",
    "import geopandas\n",
    "import fiona"
   ]
  },
  {
   "cell_type": "code",
   "execution_count": 2,
   "id": "7030b3b3-8be9-4191-9d79-63c23d9e40d5",
   "metadata": {},
   "outputs": [],
   "source": [
    "Map = geemap.Map()"
   ]
  },
  {
   "cell_type": "code",
   "execution_count": 16,
   "id": "11f3524e-fce5-4cc8-98e5-f6e0c7b7d01d",
   "metadata": {},
   "outputs": [],
   "source": [
    "in_kml = '../eds-220/220-group/220-group-mangroves/data/Poligonos_2_feb_2021-polygon.shp'\n",
    "\n",
    "#geopandas.io.file.fiona.drvsupport.supported_drivers['KML'] = 'rw'\n",
    "#df = geopandas.read_file(in_kml, driver='KML')"
   ]
  },
  {
   "cell_type": "code",
   "execution_count": 14,
   "id": "758f632a-90c4-4bf9-b0c0-aaa857011682",
   "metadata": {},
   "outputs": [
    {
     "ename": "AttributeError",
     "evalue": "'NoneType' object has no attribute 'drvsupport'",
     "output_type": "error",
     "traceback": [
      "\u001b[0;31m---------------------------------------------------------------------------\u001b[0m",
      "\u001b[0;31mAttributeError\u001b[0m                            Traceback (most recent call last)",
      "Input \u001b[0;32mIn [14]\u001b[0m, in \u001b[0;36m<cell line: 1>\u001b[0;34m()\u001b[0m\n\u001b[0;32m----> 1\u001b[0m fc \u001b[38;5;241m=\u001b[39m \u001b[43mgeemap\u001b[49m\u001b[38;5;241;43m.\u001b[39;49m\u001b[43mkml_to_ee\u001b[49m\u001b[43m(\u001b[49m\u001b[43min_kml\u001b[49m\u001b[43m)\u001b[49m\n",
      "File \u001b[0;32m/opt/python/3.10.5/lib/python3.10/site-packages/geemap/common.py:8623\u001b[0m, in \u001b[0;36mkml_to_ee\u001b[0;34m(in_kml, **kwargs)\u001b[0m\n\u001b[1;32m   8619\u001b[0m out_json \u001b[38;5;241m=\u001b[39m os\u001b[38;5;241m.\u001b[39mpath\u001b[38;5;241m.\u001b[39mjoin(os\u001b[38;5;241m.\u001b[39mgetcwd(), \u001b[38;5;124m\"\u001b[39m\u001b[38;5;124mtmp.geojson\u001b[39m\u001b[38;5;124m\"\u001b[39m)\n\u001b[1;32m   8621\u001b[0m check_package(name\u001b[38;5;241m=\u001b[39m\u001b[38;5;124m\"\u001b[39m\u001b[38;5;124mgeopandas\u001b[39m\u001b[38;5;124m\"\u001b[39m, URL\u001b[38;5;241m=\u001b[39m\u001b[38;5;124m\"\u001b[39m\u001b[38;5;124mhttps://geopandas.org\u001b[39m\u001b[38;5;124m\"\u001b[39m)\n\u001b[0;32m-> 8623\u001b[0m \u001b[43mkml_to_geojson\u001b[49m\u001b[43m(\u001b[49m\u001b[43min_kml\u001b[49m\u001b[43m,\u001b[49m\u001b[43m \u001b[49m\u001b[43mout_json\u001b[49m\u001b[43m,\u001b[49m\u001b[43m \u001b[49m\u001b[38;5;241;43m*\u001b[39;49m\u001b[38;5;241;43m*\u001b[39;49m\u001b[43mkwargs\u001b[49m\u001b[43m)\u001b[49m\n\u001b[1;32m   8624\u001b[0m ee_object \u001b[38;5;241m=\u001b[39m geojson_to_ee(out_json)\n\u001b[1;32m   8625\u001b[0m os\u001b[38;5;241m.\u001b[39mremove(out_json)\n",
      "File \u001b[0;32m/opt/python/3.10.5/lib/python3.10/site-packages/geemap/common.py:8591\u001b[0m, in \u001b[0;36mkml_to_geojson\u001b[0;34m(in_kml, out_geojson, **kwargs)\u001b[0m\n\u001b[1;32m   8587\u001b[0m \u001b[38;5;28;01mimport\u001b[39;00m \u001b[38;5;21;01mgeopandas\u001b[39;00m \u001b[38;5;28;01mas\u001b[39;00m \u001b[38;5;21;01mgpd\u001b[39;00m\n\u001b[1;32m   8589\u001b[0m \u001b[38;5;66;03m# import fiona\u001b[39;00m\n\u001b[1;32m   8590\u001b[0m \u001b[38;5;66;03m# print(fiona.supported_drivers)\u001b[39;00m\n\u001b[0;32m-> 8591\u001b[0m \u001b[43mgpd\u001b[49m\u001b[38;5;241;43m.\u001b[39;49m\u001b[43mio\u001b[49m\u001b[38;5;241;43m.\u001b[39;49m\u001b[43mfile\u001b[49m\u001b[38;5;241;43m.\u001b[39;49m\u001b[43mfiona\u001b[49m\u001b[38;5;241;43m.\u001b[39;49m\u001b[43mdrvsupport\u001b[49m\u001b[38;5;241m.\u001b[39msupported_drivers[\u001b[38;5;124m\"\u001b[39m\u001b[38;5;124mKML\u001b[39m\u001b[38;5;124m\"\u001b[39m] \u001b[38;5;241m=\u001b[39m \u001b[38;5;124m\"\u001b[39m\u001b[38;5;124mrw\u001b[39m\u001b[38;5;124m\"\u001b[39m\n\u001b[1;32m   8592\u001b[0m gdf \u001b[38;5;241m=\u001b[39m gpd\u001b[38;5;241m.\u001b[39mread_file(in_kml, driver\u001b[38;5;241m=\u001b[39m\u001b[38;5;124m\"\u001b[39m\u001b[38;5;124mKML\u001b[39m\u001b[38;5;124m\"\u001b[39m, \u001b[38;5;241m*\u001b[39m\u001b[38;5;241m*\u001b[39mkwargs)\n\u001b[1;32m   8594\u001b[0m \u001b[38;5;28;01mif\u001b[39;00m out_geojson \u001b[38;5;129;01mis\u001b[39;00m \u001b[38;5;129;01mnot\u001b[39;00m \u001b[38;5;28;01mNone\u001b[39;00m:\n",
      "\u001b[0;31mAttributeError\u001b[0m: 'NoneType' object has no attribute 'drvsupport'"
     ]
    }
   ],
   "source": [
    "fc = geemap.shp_to_ee(in_kml)"
   ]
  }
 ],
 "metadata": {
  "kernelspec": {
   "display_name": "Python 3 (ipykernel)",
   "language": "python",
   "name": "python3"
  },
  "language_info": {
   "codemirror_mode": {
    "name": "ipython",
    "version": 3
   },
   "file_extension": ".py",
   "mimetype": "text/x-python",
   "name": "python",
   "nbconvert_exporter": "python",
   "pygments_lexer": "ipython3",
   "version": "3.10.5"
  }
 },
 "nbformat": 4,
 "nbformat_minor": 5
}
